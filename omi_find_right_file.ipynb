{
 "cells": [
  {
   "cell_type": "markdown",
   "metadata": {},
   "source": [
    "# Find the right OMI file to visualize\n",
    "\n",
    "Files have two date/times in their names:\n",
    "- 1st = acquisition\n",
    "- 2nd = when processed\n",
    "\n",
    "They are 'filed' based on the processing date.\n",
    "\n",
    "Sometimes the same orbit data is processed twice, and we recieve both processed files, in that case the most recent one should be used.\n",
    "\n",
    "`omi\n",
    "└── archive\n",
    "    ├── 2020-04-01\n",
    "    │   ├── OMI-Aura_L2-OMSO2_2020m0331t1653-o83566_v003-2020m0401t114126.he5\n",
    "    │   ├── OMI-Aura_L2-OMSO2_2020m0331t1832-o83567_v003-2020m0401t114119.he5\n",
    "    │   ├── OMI-Aura_L2-OMSO2_2020m0331t2011-o83568_v003-2020m0401t114113.he5\n",
    "    │   ├── OMI-Aura_L2-OMSO2_2020m0331t2150-o83569_v003-2020m0401t114112.he5\n",
    "    │   ├── OMI-Aura_L2-OMSO2_2020m0331t2328-o83570_v003-2020m0401t184121.he5\n",
    "    │   ├── OMI-Aura_L2-OMSO2_2020m0401t0107-o83571_v003-2020m0401t184102.he5\n",
    "    │   ├── OMI-Aura_L2-OMSO2_2020m0401t0246-o83572_v003-2020m0401t185719.he5\n",
    "    │   └── OMI-Aura_L2-OMSO2_2020m0401t0425-o83573_v003-2020m0401t185732.he5\n",
    "    ├── 2020-04-02\n",
    "    │   ├── OMI-Aura_L2-OMSO2_2020m0401t1736-o83581_v003-2020m0402t120605.he5\n",
    "    │   ├── OMI-Aura_L2-OMSO2_2020m0401t1915-o83582_v003-2020m0402t120601.he5\n",
    "    │   ├── OMI-Aura_L2-OMSO2_2020m0401t2054-o83583_v003-2020m0402t120552.he5\n",
    "    │   ├── OMI-Aura_L2-OMSO2_2020m0401t2233-o83584_v003-2020m0402t120550.he5\n",
    "    │   ├── OMI-Aura_L2-OMSO2_2020m0402t0012-o83585_v003-2020m0402t143344.he5\n",
    "    │   ├── OMI-Aura_L2-OMSO2_2020m0402t0151-o83586_v003-2020m0402t143855.he5\n",
    "    │   ├── OMI-Aura_L2-OMSO2_2020m0402t0330-o83587_v003-2020m0402t143855.he5\n",
    "    │   └── OMI-Aura_L2-OMSO2_2020m0402t0508-o83588_v003-2020m0402t203226.he5\n",
    "    ├── 2020-04-03`\n",
    "    \n",
    "The satellite passes overhead the Equator at approximately 1:45 pm, local time (I assume this is ignoring Daylight Saving). This can be used to determine which file, each of which contains a single data swath, is the right one for a particular area. For example, the file suitable for PNG-Solomons is acquired at about 0245 UTC.\n",
    "\n",
    "Data for a particular UTC date can be found in the folder named by that date (typically up to about 0500 UTC), and in the following folder (typically from about 1600 UTC).\n",
    "\n",
    "WHEN DO THESE FILES ARRIVE FORM NASA?\n",
    "    "
   ]
  },
  {
   "cell_type": "code",
   "execution_count": 52,
   "metadata": {},
   "outputs": [],
   "source": [
    "import os\n",
    "import datetime\n",
    "from datetime import timedelta\n",
    "import pytz\n",
    "import numpy as np"
   ]
  },
  {
   "cell_type": "markdown",
   "metadata": {},
   "source": [
    "## Example"
   ]
  },
  {
   "cell_type": "code",
   "execution_count": null,
   "metadata": {},
   "outputs": [],
   "source": [
    "datadir = '/home/sherburn/Work/GeoNet/omi/archive'\n",
    "\n",
    "area = 'vanuatu'\n",
    "\n",
    "date = '2020-04-04'\n"
   ]
  },
  {
   "cell_type": "code",
   "execution_count": 57,
   "metadata": {},
   "outputs": [],
   "source": [
    "def prevday(date):\n",
    "    #find previous date given a date string\n",
    "    dt = datetime.datetime.strptime(date, '%Y-%m-%d')\n",
    "    prev = (dt+ timedelta(days=-1)).date()\n",
    "    return prev.strftime('%Y-%m-%d')"
   ]
  },
  {
   "cell_type": "code",
   "execution_count": 18,
   "metadata": {},
   "outputs": [],
   "source": [
    "def passtime(area, date):\n",
    "    #find the theoretical pass time for the OMI staellite at the lititude of the area provided\n",
    "    #satellite nominally passes at 1:45 pm\n",
    "    \n",
    "    #timezones\n",
    "    zones = {'pngsol':'Pacific/Bougainville', 'vanuatu':'Pacific/Bougainville', 'sft':'Pacific/Tongatapu', 'nz':'NZ', 'kerm':'NZ' }\n",
    "    \n",
    "    obstime = '13:45:00' # 1:45 pm local time\n",
    "    dt = date+' '+obstime\n",
    "    dt = datetime.datetime.strptime(dt, '%Y-%m-%d %H:%M:%S')\n",
    "    \n",
    "    print ('for ', area)\n",
    "    timezone = pytz.timezone(zones[area])\n",
    "    dt = timezone.localize(dt)\n",
    "    dtutc = dt.astimezone(pytz.utc)\n",
    "    print ('passtime = ', dtutc)\n",
    "    return (dtutc)"
   ]
  },
  {
   "cell_type": "code",
   "execution_count": 54,
   "metadata": {},
   "outputs": [],
   "source": [
    "def nearest_file(files, passutc):\n",
    "    #find nearest file to satellite pass time\n",
    "    #file name example OMI-Aura_L2-OMSO2_2020m0404t2125-o83627_v003-2020m0405t114954.he5\n",
    "    print (passutc)\n",
    "    diffmin = 1e9\n",
    "    for file in files:\n",
    "        print (file)\n",
    "        swathdate = file[18:22]+'-'+file[23:25]+'-'+file[25:27]\n",
    "#         print (swathdate)\n",
    "        swathtime = file[28:30]+':'+file[30:32]\n",
    "#         print (swathtime)\n",
    "        swathdt = swathdate+' '+swathtime\n",
    "        swathdt = datetime.datetime.strptime(swathdt, '%Y-%m-%d %H:%M')\n",
    "        timezone = pytz.timezone('UTC')\n",
    "        swathdt = timezone.localize(swathdt)\n",
    "#         print (swathdt)\n",
    "        tdiff = np.abs((swathdt - passutc).total_seconds())\n",
    "        print (tdiff)\n",
    "        if tdiff < diffmin:\n",
    "            diffmin = tdiff\n",
    "            filemin = file\n",
    "            print ('new filemin = ', filemin)\n",
    "            print ('new diffmin = ', diffmin)\n",
    "        print ('-----')"
   ]
  },
  {
   "cell_type": "code",
   "execution_count": 38,
   "metadata": {},
   "outputs": [
    {
     "name": "stdout",
     "output_type": "stream",
     "text": [
      "2020-04-04\n",
      "21:25\n"
     ]
    },
    {
     "data": {
      "text/plain": [
       "datetime.datetime(2020, 4, 4, 21, 25)"
      ]
     },
     "execution_count": 38,
     "metadata": {},
     "output_type": "execute_result"
    }
   ],
   "source": [
    "f = 'OMI-Aura_L2-OMSO2_2020m0404t2125-o83627_v003-2020m0405t114954.he5'\n",
    "swathdate = f[18:22]+'-'+f[23:25]+'-'+f[25:27]\n",
    "print (swathdate)\n",
    "swathtime = f[28:30]+':'+f[30:32]\n",
    "print (swathtime)\n",
    "\n",
    "swathdt = datetime.datetime.strptime(swathdate+' '+swathtime, '%Y-%m-%d %H:%M')\n",
    "swathdt"
   ]
  },
  {
   "cell_type": "code",
   "execution_count": 19,
   "metadata": {},
   "outputs": [
    {
     "name": "stdout",
     "output_type": "stream",
     "text": [
      "for  vanuatu\n",
      "passtime =  2020-04-04 02:45:00+00:00\n"
     ]
    }
   ],
   "source": [
    "passutc = passtime('vanuatu', date)"
   ]
  },
  {
   "cell_type": "code",
   "execution_count": 20,
   "metadata": {},
   "outputs": [
    {
     "name": "stdout",
     "output_type": "stream",
     "text": [
      "2020-04-04 02:45:00+00:00\n"
     ]
    }
   ],
   "source": [
    "print (passutc)"
   ]
  },
  {
   "cell_type": "code",
   "execution_count": 58,
   "metadata": {},
   "outputs": [
    {
     "data": {
      "text/plain": [
       "'2020-04-03'"
      ]
     },
     "execution_count": 58,
     "metadata": {},
     "output_type": "execute_result"
    }
   ],
   "source": [
    "prevdate = prevday(date)\n",
    "prevdate"
   ]
  },
  {
   "cell_type": "code",
   "execution_count": 67,
   "metadata": {},
   "outputs": [
    {
     "name": "stdout",
     "output_type": "stream",
     "text": [
      "2020-04-03\n",
      "2020-04-04\n"
     ]
    }
   ],
   "source": [
    "#list files in current and previous day folders\n",
    "files = []\n",
    "for d in [prevdate, date]:\n",
    "    print (d)\n",
    "    dir = os.path.join(datadir, d)\n",
    "    dirfiles = [os.path.join(dir, file) for file in os.listdir(dir)]\n",
    "    for file in dirfiles:\n",
    "        files.append(file)\n",
    "    "
   ]
  },
  {
   "cell_type": "code",
   "execution_count": 68,
   "metadata": {},
   "outputs": [
    {
     "data": {
      "text/plain": [
       "['/home/sherburn/Work/GeoNet/omi/archive/2020-04-03/OMI-Aura_L2-OMSO2_2020m0402t2316-o83599_v003-2020m0403t154214.he5',\n",
       " '/home/sherburn/Work/GeoNet/omi/archive/2020-04-03/OMI-Aura_L2-OMSO2_2020m0402t2137-o83598_v003-2020m0403t120201.he5',\n",
       " '/home/sherburn/Work/GeoNet/omi/archive/2020-04-03/OMI-Aura_L2-OMSO2_2020m0403t0234-o83601_v003-2020m0403t153703.he5',\n",
       " '/home/sherburn/Work/GeoNet/omi/archive/2020-04-03/OMI-Aura_L2-OMSO2_2020m0402t1959-o83597_v003-2020m0403t115802.he5',\n",
       " '/home/sherburn/Work/GeoNet/omi/archive/2020-04-03/OMI-Aura_L2-OMSO2_2020m0403t0413-o83602_v003-2020m0403t154735.he5',\n",
       " '/home/sherburn/Work/GeoNet/omi/archive/2020-04-03/OMI-Aura_L2-OMSO2_2020m0403t0055-o83600_v003-2020m0403t154228.he5',\n",
       " '/home/sherburn/Work/GeoNet/omi/archive/2020-04-03/OMI-Aura_L2-OMSO2_2020m0402t1820-o83596_v003-2020m0403t120201.he5',\n",
       " '/home/sherburn/Work/GeoNet/omi/archive/2020-04-04/OMI-Aura_L2-OMSO2_2020m0403t1903-o83611_v003-2020m0404t122543.he5',\n",
       " '/home/sherburn/Work/GeoNet/omi/archive/2020-04-04/OMI-Aura_L2-OMSO2_2020m0403t2221-o83613_v003-2020m0404t123111.he5',\n",
       " '/home/sherburn/Work/GeoNet/omi/archive/2020-04-04/OMI-Aura_L2-OMSO2_2020m0403t2042-o83612_v003-2020m0404t123552.he5',\n",
       " '/home/sherburn/Work/GeoNet/omi/archive/2020-04-04/OMI-Aura_L2-OMSO2_2020m0404t0000-o83614_v003-2020m0404t150427.he5',\n",
       " '/home/sherburn/Work/GeoNet/omi/archive/2020-04-04/OMI-Aura_L2-OMSO2_2020m0403t1724-o83610_v003-2020m0404t123057.he5',\n",
       " '/home/sherburn/Work/GeoNet/omi/archive/2020-04-04/OMI-Aura_L2-OMSO2_2020m0404t0139-o83615_v003-2020m0404t150427.he5',\n",
       " '/home/sherburn/Work/GeoNet/omi/archive/2020-04-04/OMI-Aura_L2-OMSO2_2020m0404t0456-o83617_v003-2020m0404t202925.he5',\n",
       " '/home/sherburn/Work/GeoNet/omi/archive/2020-04-04/OMI-Aura_L2-OMSO2_2020m0404t0317-o83616_v003-2020m0404t150942.he5']"
      ]
     },
     "execution_count": 68,
     "metadata": {},
     "output_type": "execute_result"
    }
   ],
   "source": [
    "files"
   ]
  },
  {
   "cell_type": "code",
   "execution_count": 69,
   "metadata": {},
   "outputs": [
    {
     "name": "stdout",
     "output_type": "stream",
     "text": [
      "2020-04-04 02:45:00+00:00\n",
      "/home/sherburn/Work/GeoNet/omi/archive/2020-04-03/OMI-Aura_L2-OMSO2_2020m0402t2316-o83599_v003-2020m0403t154214.he5\n"
     ]
    },
    {
     "ename": "ValueError",
     "evalue": "time data 'k/Ge-Ne-t/ mi:/a' does not match format '%Y-%m-%d %H:%M'",
     "output_type": "error",
     "traceback": [
      "\u001b[0;31m---------------------------------------------------------------------------\u001b[0m",
      "\u001b[0;31mValueError\u001b[0m                                Traceback (most recent call last)",
      "\u001b[0;32m<ipython-input-69-7a42e6144e9a>\u001b[0m in \u001b[0;36m<module>\u001b[0;34m\u001b[0m\n\u001b[1;32m      1\u001b[0m \u001b[0;32mfor\u001b[0m \u001b[0mfile\u001b[0m \u001b[0;32min\u001b[0m \u001b[0mfiles\u001b[0m\u001b[0;34m:\u001b[0m\u001b[0;34m\u001b[0m\u001b[0;34m\u001b[0m\u001b[0m\n\u001b[0;32m----> 2\u001b[0;31m     \u001b[0mnearest_file\u001b[0m\u001b[0;34m(\u001b[0m\u001b[0mfiles\u001b[0m\u001b[0;34m,\u001b[0m \u001b[0mpassutc\u001b[0m\u001b[0;34m)\u001b[0m\u001b[0;34m\u001b[0m\u001b[0;34m\u001b[0m\u001b[0m\n\u001b[0m",
      "\u001b[0;32m<ipython-input-54-5eda2e31332a>\u001b[0m in \u001b[0;36mnearest_file\u001b[0;34m(files, passutc)\u001b[0m\n\u001b[1;32m     11\u001b[0m \u001b[0;31m#         print (swathtime)\u001b[0m\u001b[0;34m\u001b[0m\u001b[0;34m\u001b[0m\u001b[0;34m\u001b[0m\u001b[0m\n\u001b[1;32m     12\u001b[0m         \u001b[0mswathdt\u001b[0m \u001b[0;34m=\u001b[0m \u001b[0mswathdate\u001b[0m\u001b[0;34m+\u001b[0m\u001b[0;34m' '\u001b[0m\u001b[0;34m+\u001b[0m\u001b[0mswathtime\u001b[0m\u001b[0;34m\u001b[0m\u001b[0;34m\u001b[0m\u001b[0m\n\u001b[0;32m---> 13\u001b[0;31m         \u001b[0mswathdt\u001b[0m \u001b[0;34m=\u001b[0m \u001b[0mdatetime\u001b[0m\u001b[0;34m.\u001b[0m\u001b[0mdatetime\u001b[0m\u001b[0;34m.\u001b[0m\u001b[0mstrptime\u001b[0m\u001b[0;34m(\u001b[0m\u001b[0mswathdt\u001b[0m\u001b[0;34m,\u001b[0m \u001b[0;34m'%Y-%m-%d %H:%M'\u001b[0m\u001b[0;34m)\u001b[0m\u001b[0;34m\u001b[0m\u001b[0;34m\u001b[0m\u001b[0m\n\u001b[0m\u001b[1;32m     14\u001b[0m         \u001b[0mtimezone\u001b[0m \u001b[0;34m=\u001b[0m \u001b[0mpytz\u001b[0m\u001b[0;34m.\u001b[0m\u001b[0mtimezone\u001b[0m\u001b[0;34m(\u001b[0m\u001b[0;34m'UTC'\u001b[0m\u001b[0;34m)\u001b[0m\u001b[0;34m\u001b[0m\u001b[0;34m\u001b[0m\u001b[0m\n\u001b[1;32m     15\u001b[0m         \u001b[0mswathdt\u001b[0m \u001b[0;34m=\u001b[0m \u001b[0mtimezone\u001b[0m\u001b[0;34m.\u001b[0m\u001b[0mlocalize\u001b[0m\u001b[0;34m(\u001b[0m\u001b[0mswathdt\u001b[0m\u001b[0;34m)\u001b[0m\u001b[0;34m\u001b[0m\u001b[0;34m\u001b[0m\u001b[0m\n",
      "\u001b[0;32m~/anaconda3/lib/python3.7/_strptime.py\u001b[0m in \u001b[0;36m_strptime_datetime\u001b[0;34m(cls, data_string, format)\u001b[0m\n\u001b[1;32m    575\u001b[0m     \"\"\"Return a class cls instance based on the input string and the\n\u001b[1;32m    576\u001b[0m     format string.\"\"\"\n\u001b[0;32m--> 577\u001b[0;31m     \u001b[0mtt\u001b[0m\u001b[0;34m,\u001b[0m \u001b[0mfraction\u001b[0m\u001b[0;34m,\u001b[0m \u001b[0mgmtoff_fraction\u001b[0m \u001b[0;34m=\u001b[0m \u001b[0m_strptime\u001b[0m\u001b[0;34m(\u001b[0m\u001b[0mdata_string\u001b[0m\u001b[0;34m,\u001b[0m \u001b[0mformat\u001b[0m\u001b[0;34m)\u001b[0m\u001b[0;34m\u001b[0m\u001b[0;34m\u001b[0m\u001b[0m\n\u001b[0m\u001b[1;32m    578\u001b[0m     \u001b[0mtzname\u001b[0m\u001b[0;34m,\u001b[0m \u001b[0mgmtoff\u001b[0m \u001b[0;34m=\u001b[0m \u001b[0mtt\u001b[0m\u001b[0;34m[\u001b[0m\u001b[0;34m-\u001b[0m\u001b[0;36m2\u001b[0m\u001b[0;34m:\u001b[0m\u001b[0;34m]\u001b[0m\u001b[0;34m\u001b[0m\u001b[0;34m\u001b[0m\u001b[0m\n\u001b[1;32m    579\u001b[0m     \u001b[0margs\u001b[0m \u001b[0;34m=\u001b[0m \u001b[0mtt\u001b[0m\u001b[0;34m[\u001b[0m\u001b[0;34m:\u001b[0m\u001b[0;36m6\u001b[0m\u001b[0;34m]\u001b[0m \u001b[0;34m+\u001b[0m \u001b[0;34m(\u001b[0m\u001b[0mfraction\u001b[0m\u001b[0;34m,\u001b[0m\u001b[0;34m)\u001b[0m\u001b[0;34m\u001b[0m\u001b[0;34m\u001b[0m\u001b[0m\n",
      "\u001b[0;32m~/anaconda3/lib/python3.7/_strptime.py\u001b[0m in \u001b[0;36m_strptime\u001b[0;34m(data_string, format)\u001b[0m\n\u001b[1;32m    357\u001b[0m     \u001b[0;32mif\u001b[0m \u001b[0;32mnot\u001b[0m \u001b[0mfound\u001b[0m\u001b[0;34m:\u001b[0m\u001b[0;34m\u001b[0m\u001b[0;34m\u001b[0m\u001b[0m\n\u001b[1;32m    358\u001b[0m         raise ValueError(\"time data %r does not match format %r\" %\n\u001b[0;32m--> 359\u001b[0;31m                          (data_string, format))\n\u001b[0m\u001b[1;32m    360\u001b[0m     \u001b[0;32mif\u001b[0m \u001b[0mlen\u001b[0m\u001b[0;34m(\u001b[0m\u001b[0mdata_string\u001b[0m\u001b[0;34m)\u001b[0m \u001b[0;34m!=\u001b[0m \u001b[0mfound\u001b[0m\u001b[0;34m.\u001b[0m\u001b[0mend\u001b[0m\u001b[0;34m(\u001b[0m\u001b[0;34m)\u001b[0m\u001b[0;34m:\u001b[0m\u001b[0;34m\u001b[0m\u001b[0;34m\u001b[0m\u001b[0m\n\u001b[1;32m    361\u001b[0m         raise ValueError(\"unconverted data remains: %s\" %\n",
      "\u001b[0;31mValueError\u001b[0m: time data 'k/Ge-Ne-t/ mi:/a' does not match format '%Y-%m-%d %H:%M'"
     ]
    }
   ],
   "source": [
    "for file in files:\n",
    "    nearest_file(files, passutc)"
   ]
  }
 ],
 "metadata": {
  "kernelspec": {
   "display_name": "Python 3",
   "language": "python",
   "name": "python3"
  },
  "language_info": {
   "codemirror_mode": {
    "name": "ipython",
    "version": 3
   },
   "file_extension": ".py",
   "mimetype": "text/x-python",
   "name": "python",
   "nbconvert_exporter": "python",
   "pygments_lexer": "ipython3",
   "version": "3.7.6"
  }
 },
 "nbformat": 4,
 "nbformat_minor": 4
}
